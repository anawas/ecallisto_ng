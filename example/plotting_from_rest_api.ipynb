{
 "cells": [
  {
   "cell_type": "code",
   "execution_count": null,
   "metadata": {},
   "outputs": [],
   "source": [
    "from ecallisto_ng.data_fetching.get_data import get_data\n",
    "from ecallisto_ng.data_processing.utils import elimwrongchannels, subtract_constant_background, subtract_rolling_background\n",
    "from ecallisto_ng.plotting.utils import fill_missing_timesteps_with_nan\n",
    "from ecallisto_ng.plotting.plotting import plot_spectogram_mpl, plot_spectogram, plot_with_fixed_resolution_mpl\n",
    "from ecallisto_ng.data_fetching.get_information import check_table_data_availability, check_min_max_datetime_in_table\n",
    "import matplotlib.pyplot as plt\n",
    "import numpy as np\n",
    "import pandas as pd\n",
    "import plotly.express as px"
   ]
  },
  {
   "attachments": {},
   "cell_type": "markdown",
   "metadata": {},
   "source": [
    "### Fetch some data from the e-Callisto API\n",
    "Because of SQL limtations, the function `ecallisto_ng.data_fetching.get_data.extract_instrument_name` was used to make the instrument names SQL compatible."
   ]
  },
  {
   "cell_type": "code",
   "execution_count": null,
   "metadata": {},
   "outputs": [],
   "source": [
    "get_ava"
   ]
  },
  {
   "cell_type": "code",
   "execution_count": null,
   "metadata": {},
   "outputs": [],
   "source": [
    "fast_api_parameter =  {\n",
    "    \"instrument_name\": \"germany_dlr_62\",\n",
    "    \"start_datetime\": \"2023-09-28 00:00:00\",\n",
    "    \"end_datetime\": \"2023-09-28 23:59:00\",\n",
    "    \"timebucket\": \"5min\",\n",
    "    \"agg_function\": \"MAX\",\n",
    "}"
   ]
  },
  {
   "cell_type": "code",
   "execution_count": null,
   "metadata": {},
   "outputs": [],
   "source": [
    "check_min_max_datetime_in_table(**fast_api_parameter)"
   ]
  },
  {
   "cell_type": "code",
   "execution_count": null,
   "metadata": {},
   "outputs": [],
   "source": [
    "# Check first data availability\n",
    "check_table_data_availability(**fast_api_parameter)"
   ]
  },
  {
   "cell_type": "code",
   "execution_count": null,
   "metadata": {},
   "outputs": [],
   "source": [
    "df = get_data(**fast_api_parameter)"
   ]
  },
  {
   "cell_type": "code",
   "execution_count": null,
   "metadata": {},
   "outputs": [],
   "source": [
    "# Some meta data is available in the returned DataFrame\n",
    "print(df.attrs)"
   ]
  },
  {
   "cell_type": "code",
   "execution_count": null,
   "metadata": {},
   "outputs": [],
   "source": [
    "df_filled_nan = fill_missing_timesteps_with_nan(df) # To avoid that plotly is interpolating the data during the night"
   ]
  },
  {
   "cell_type": "code",
   "execution_count": null,
   "metadata": {},
   "outputs": [],
   "source": [
    "plot_spectogram(\n",
    "    df_filled_nan, fast_api_parameter[\"instrument_name\"], fast_api_parameter[\"start_datetime\"], fast_api_parameter[\"end_datetime\"]\n",
    ")"
   ]
  },
  {
   "cell_type": "code",
   "execution_count": null,
   "metadata": {},
   "outputs": [],
   "source": [
    "plot_spectogram(subtract_constant_background(df_filled_nan), fast_api_parameter[\"instrument_name\"], fast_api_parameter[\"start_datetime\"], fast_api_parameter[\"end_datetime\"])"
   ]
  },
  {
   "attachments": {},
   "cell_type": "markdown",
   "metadata": {},
   "source": [
    "### Process the data a bit by removing noise, background image and wrong channels"
   ]
  },
  {
   "cell_type": "code",
   "execution_count": null,
   "metadata": {},
   "outputs": [],
   "source": [
    "df_ewc = fill_missing_timesteps_with_nan(df)\n",
    "df_ewc = elimwrongchannels(df_ewc)"
   ]
  },
  {
   "cell_type": "code",
   "execution_count": null,
   "metadata": {},
   "outputs": [],
   "source": [
    "df_ewc = elimwrongchannels(df)\n",
    "df_ewc = fill_missing_timesteps_with_nan(df_ewc)"
   ]
  },
  {
   "cell_type": "code",
   "execution_count": null,
   "metadata": {},
   "outputs": [],
   "source": [
    "fig = plot_spectogram(\n",
    "    df_ewc, fast_api_parameter[\"instrument_name\"], fast_api_parameter[\"start_datetime\"], fast_api_parameter[\"end_datetime\"]\n",
    ")\n",
    "fig.show()"
   ]
  },
  {
   "cell_type": "code",
   "execution_count": null,
   "metadata": {},
   "outputs": [],
   "source": [
    "df_ewc_rbg = subtract_rolling_background(df_ewc, window=10)"
   ]
  },
  {
   "cell_type": "code",
   "execution_count": null,
   "metadata": {},
   "outputs": [],
   "source": [
    "fig = plot_spectogram(\n",
    "    df_ewc_rbg, fast_api_parameter[\"instrument_name\"], fast_api_parameter[\"start_datetime\"], fast_api_parameter[\"end_datetime\"]\n",
    ")\n",
    "fig.show()"
   ]
  },
  {
   "attachments": {},
   "cell_type": "markdown",
   "metadata": {},
   "source": [
    "### Fetch interesting data from the data"
   ]
  },
  {
   "cell_type": "code",
   "execution_count": null,
   "metadata": {},
   "outputs": [],
   "source": [
    "fast_api_parameter =  {\n",
    "    \"instrument_name\": \"germany_dlr_62\",\n",
    "    \"start_datetime\": \"2023-09-28 09:05:00\",\n",
    "    \"end_datetime\": \"2023-09-28 09:09:00\",\n",
    "}"
   ]
  },
  {
   "cell_type": "code",
   "execution_count": null,
   "metadata": {},
   "outputs": [],
   "source": [
    "df = get_data(**fast_api_parameter)"
   ]
  },
  {
   "cell_type": "code",
   "execution_count": null,
   "metadata": {},
   "outputs": [],
   "source": [
    "df  = fill_missing_timesteps_with_nan(df)"
   ]
  },
  {
   "cell_type": "code",
   "execution_count": null,
   "metadata": {},
   "outputs": [],
   "source": [
    "plot_spectogram(df, fast_api_parameter[\"instrument_name\"], fast_api_parameter[\"start_datetime\"], fast_api_parameter[\"end_datetime\"])"
   ]
  },
  {
   "cell_type": "code",
   "execution_count": null,
   "metadata": {},
   "outputs": [],
   "source": [
    "df_ewc_rbg = subtract_rolling_background(elimwrongchannels(df), window=100, how=\"quantile\", quantile_value=0.05)"
   ]
  },
  {
   "cell_type": "code",
   "execution_count": null,
   "metadata": {},
   "outputs": [],
   "source": [
    "plot_spectogram(df_ewc_rbg, fast_api_parameter[\"instrument_name\"], fast_api_parameter[\"start_datetime\"], fast_api_parameter[\"end_datetime\"])"
   ]
  },
  {
   "attachments": {},
   "cell_type": "markdown",
   "metadata": {},
   "source": [
    "### Get live data"
   ]
  },
  {
   "cell_type": "code",
   "execution_count": null,
   "metadata": {},
   "outputs": [],
   "source": [
    "from datetime import datetime, timedelta"
   ]
  },
  {
   "cell_type": "code",
   "execution_count": null,
   "metadata": {},
   "outputs": [],
   "source": [
    "now = datetime.now()\n",
    "\n",
    "fast_api_parameter =  {\n",
    "    \"instrument_name\": \"austria_unigraz_01\",\n",
    "    \"start_datetime\": (datetime.now() - timedelta(hours=24)).strftime(\"%Y-%m-%d %H:%M:%S\"),\n",
    "    \"end_datetime\": datetime.now().strftime(\"%Y-%m-%d %H:%M:%S\"),\n",
    "    \"agg_function\": \"MAX\",\n",
    "    \"timebucket\": \"1min\",\n",
    "}"
   ]
  },
  {
   "cell_type": "code",
   "execution_count": null,
   "metadata": {},
   "outputs": [],
   "source": [
    "df = get_data(**fast_api_parameter)"
   ]
  },
  {
   "cell_type": "code",
   "execution_count": null,
   "metadata": {},
   "outputs": [],
   "source": [
    "plot_spectogram(fill_missing_timesteps_with_nan(df), fast_api_parameter[\"instrument_name\"], fast_api_parameter[\"start_datetime\"], fast_api_parameter[\"end_datetime\"])"
   ]
  },
  {
   "cell_type": "code",
   "execution_count": null,
   "metadata": {},
   "outputs": [],
   "source": [
    "# Pandas piping of course works too\n",
    "# When using elimwrongchannels, use `fill_missing_timesteps_with_nan` after!\n",
    "(df.pipe(elimwrongchannels)\n",
    "        .pipe(subtract_rolling_background, center=False)\n",
    "        .pipe(fill_missing_timesteps_with_nan)\n",
    "        .pipe(plot_spectogram, fast_api_parameter[\"instrument_name\"], fast_api_parameter[\"start_datetime\"], fast_api_parameter[\"end_datetime\"])\n",
    ")"
   ]
  },
  {
   "cell_type": "markdown",
   "metadata": {},
   "source": [
    "## Non existent data\n",
    "Ecallisto NG will raise an ValueError in those cases (error handling is still a bit a work in progress.)"
   ]
  },
  {
   "cell_type": "code",
   "execution_count": null,
   "metadata": {},
   "outputs": [],
   "source": [
    "now = datetime.now()\n",
    "\n",
    "fast_api_parameter =  {\n",
    "    \"instrument_name\": \"austria_unigraz_01\",\n",
    "    \"start_datetime\": (datetime.now() - timedelta(hours=24) + timedelta(days=30)).strftime(\"%Y-%m-%d %H:%M:%S\"),\n",
    "    \"end_datetime\": (datetime.now() + + timedelta(days=30)).strftime(\"%Y-%m-%d %H:%M:%S\"),\n",
    "    \"agg_function\": \"MAX\",\n",
    "    \"timebucket\": \"1min\",\n",
    "}"
   ]
  },
  {
   "cell_type": "code",
   "execution_count": null,
   "metadata": {},
   "outputs": [],
   "source": [
    "try:\n",
    "    get_data(**fast_api_parameter)\n",
    "except Exception as e:\n",
    "    print(e)"
   ]
  },
  {
   "attachments": {},
   "cell_type": "markdown",
   "metadata": {},
   "source": [
    "### Get information of data availability"
   ]
  },
  {
   "cell_type": "code",
   "execution_count": null,
   "metadata": {},
   "outputs": [],
   "source": [
    "from ecallisto_ng.data_fetching.get_information import get_tables, get_table_names_with_data_between_dates\n",
    "from datetime import datetime, timedelta"
   ]
  },
  {
   "cell_type": "code",
   "execution_count": null,
   "metadata": {},
   "outputs": [],
   "source": [
    "get_tables()"
   ]
  },
  {
   "cell_type": "code",
   "execution_count": null,
   "metadata": {},
   "outputs": [],
   "source": [
    "get_table_names_with_data_between_dates(\n",
    "    start_datetime=(datetime.now() - timedelta(hours=24)).strftime(\"%Y-%m-%d %H:%M:%S\"),\n",
    "    end_datetime=datetime.now().strftime(\"%Y-%m-%d %H:%M:%S\")\n",
    ")"
   ]
  },
  {
   "cell_type": "code",
   "execution_count": null,
   "metadata": {},
   "outputs": [],
   "source": [
    "check_min_max_datetime_in_table(get_tables()[5])"
   ]
  },
  {
   "cell_type": "code",
   "execution_count": null,
   "metadata": {},
   "outputs": [],
   "source": [
    "plot_with_fixed_resolution_mpl('austria_unigraz_01', '2023-03-31 18:46:00', '2022-04-01 18:46:00', resolution=500, sampling_method='MAX')"
   ]
  }
 ],
 "metadata": {
  "kernelspec": {
   "display_name": "ecallisto_tsdb",
   "language": "python",
   "name": "python3"
  },
  "language_info": {
   "codemirror_mode": {
    "name": "ipython",
    "version": 3
   },
   "file_extension": ".py",
   "mimetype": "text/x-python",
   "name": "python",
   "nbconvert_exporter": "python",
   "pygments_lexer": "ipython3",
   "version": "3.9.17"
  },
  "orig_nbformat": 4
 },
 "nbformat": 4,
 "nbformat_minor": 2
}
