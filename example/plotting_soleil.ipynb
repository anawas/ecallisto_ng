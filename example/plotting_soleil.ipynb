{
 "cells": [
  {
   "cell_type": "code",
   "execution_count": null,
   "metadata": {},
   "outputs": [],
   "source": [
    "from datetime import datetime, timedelta\n",
    "from ecallisto_ng.data_download.downloader import (\n",
    "    get_ecallisto_data,\n",
    "    get_instrument_with_available_data,\n",
    "    get_ecallisto_data_generator,\n",
    ")\n",
    "from ecallisto_ng.data_processing.utils import (\n",
    "    elimwrongchannels,\n",
    "    subtract_constant_background,\n",
    ")\n",
    "from ecallisto_ng.plotting.plotting import plot_spectogram\n",
    "from datetime import datetime, timedelta"
   ]
  },
  {
   "attachments": {},
   "cell_type": "markdown",
   "metadata": {},
   "source": [
    "### Get data directly from soleil\n",
    "Thanks to smart multiprocessing and fast filtering, we can get data directly from the soleil server.\n",
    "We offer different functions for you to get the data you want."
   ]
  },
  {
   "cell_type": "code",
   "execution_count": null,
   "metadata": {},
   "outputs": [],
   "source": [
    "start_datetime = datetime(2021, 5, 7, 0, 00, 0)\n",
    "end_datetime = datetime(2021, 5, 7, 23, 59, 0)"
   ]
  },
  {
   "cell_type": "code",
   "execution_count": null,
   "metadata": {},
   "outputs": [],
   "source": [
    "get_instrument_with_available_data(start_datetime, end_datetime) "
   ]
  },
  {
   "cell_type": "code",
   "execution_count": null,
   "metadata": {},
   "outputs": [],
   "source": [
    "dfs = get_ecallisto_data(start_datetime, end_datetime, verbose=True)"
   ]
  },
  {
   "cell_type": "code",
   "execution_count": null,
   "metadata": {},
   "outputs": [],
   "source": [
    "df = dfs[\"Australia-ASSA_01\"]"
   ]
  },
  {
   "cell_type": "code",
   "execution_count": null,
   "metadata": {},
   "outputs": [],
   "source": [
    "# Before downsamping\n",
    "df.shape"
   ]
  },
  {
   "cell_type": "code",
   "execution_count": null,
   "metadata": {},
   "outputs": [],
   "source": [
    "# After downsampling, group time by 1 minute and take the max value\n",
    "# See here: https://pandas.pydata.org/pandas-docs/dev/reference/api/pandas.DataFrame.resample.html\n",
    "# The point is here that you cannot plot a lot of rows, so you need to downsample\n",
    "df.resample(\"1min\").max().shape"
   ]
  },
  {
   "cell_type": "code",
   "execution_count": null,
   "metadata": {},
   "outputs": [],
   "source": [
    "plot_spectogram(df.resample(\"1min\").max())"
   ]
  },
  {
   "cell_type": "code",
   "execution_count": null,
   "metadata": {},
   "outputs": [],
   "source": [
    "# Keep only the channels 40-70. Slice the dataframe\n",
    "# See: https://pandas.pydata.org/pandas-docs/stable/user_guide/indexing.html#slicing-ranges\n",
    "plot_spectogram(df.loc[:, 40:70].resample(\"1min\").max())"
   ]
  },
  {
   "cell_type": "code",
   "execution_count": null,
   "metadata": {},
   "outputs": [],
   "source": [
    "# Generator, so that each match is downloaded and processed separately\n",
    "# To allow you to process the data in chunks, save it, etc.\n",
    "generator = get_ecallisto_data_generator(start_datetime, end_datetime, ['ASSA'])"
   ]
  },
  {
   "cell_type": "code",
   "execution_count": null,
   "metadata": {},
   "outputs": [],
   "source": [
    "for key, value in generator:\n",
    "    print(key)"
   ]
  },
  {
   "cell_type": "code",
   "execution_count": null,
   "metadata": {},
   "outputs": [],
   "source": [
    "# Groupby to reduce the number of rows and overwrite it\n",
    "df = df.resample(\"1min\").max()"
   ]
  },
  {
   "cell_type": "code",
   "execution_count": null,
   "metadata": {},
   "outputs": [],
   "source": [
    "# Some spectogram editing\n",
    "plot_spectogram(elimwrongchannels(subtract_constant_background(df)))"
   ]
  },
  {
   "cell_type": "code",
   "execution_count": null,
   "metadata": {},
   "outputs": [],
   "source": [
    "# Fetch interessting data, from the plot above\n",
    "df = get_ecallisto_data(\n",
    "    datetime(2021, 5, 7, 3, 39, 0), datetime(2021, 5, 7, 3, 42, 0), \"Australia-ASSA_01\"\n",
    ")"
   ]
  },
  {
   "cell_type": "code",
   "execution_count": null,
   "metadata": {},
   "outputs": [],
   "source": [
    "plot_spectogram(df)"
   ]
  },
  {
   "cell_type": "code",
   "execution_count": null,
   "metadata": {},
   "outputs": [],
   "source": [
    "# Some spectogram editing\n",
    "plot_spectogram(elimwrongchannels(subtract_constant_background(df)))"
   ]
  },
  {
   "cell_type": "code",
   "execution_count": null,
   "metadata": {},
   "outputs": [],
   "source": [
    "# Make it prettier. .pipe in pandas is a way to chain functions\n",
    "(df.pipe(elimwrongchannels).pipe(subtract_constant_background).pipe(plot_spectogram))"
   ]
  },
  {
   "attachments": {},
   "cell_type": "markdown",
   "metadata": {},
   "source": [
    "### Get live data"
   ]
  },
  {
   "cell_type": "code",
   "execution_count": null,
   "metadata": {},
   "outputs": [],
   "source": [
    "now = datetime.now()\n",
    "\n",
    "start_datetime = now - timedelta(days=1)\n",
    "end_datetime = now"
   ]
  },
  {
   "cell_type": "code",
   "execution_count": null,
   "metadata": {},
   "outputs": [],
   "source": [
    "df = (\n",
    "    get_ecallisto_data(\n",
    "        start_datetime=start_datetime,\n",
    "        end_datetime=end_datetime,\n",
    "        instrument_name=\"AUSTRIA-UNIGRAZ_01\",\n",
    "    )\n",
    "    .resample(\"1min\")\n",
    "    .max()\n",
    ")"
   ]
  },
  {
   "cell_type": "code",
   "execution_count": null,
   "metadata": {},
   "outputs": [],
   "source": [
    "plot_spectogram(df)"
   ]
  }
 ],
 "metadata": {
  "kernelspec": {
   "display_name": "ecallisto_tsdb",
   "language": "python",
   "name": "python3"
  },
  "language_info": {
   "codemirror_mode": {
    "name": "ipython",
    "version": 3
   },
   "file_extension": ".py",
   "mimetype": "text/x-python",
   "name": "python",
   "nbconvert_exporter": "python",
   "pygments_lexer": "ipython3",
   "version": "3.9.18"
  },
  "orig_nbformat": 4
 },
 "nbformat": 4,
 "nbformat_minor": 2
}
