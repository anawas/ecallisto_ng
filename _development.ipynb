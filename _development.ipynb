{
    "cells": [
        {
            "cell_type": "code",
            "execution_count": 1,
            "metadata": {},
            "outputs": [],
            "source": [
                "from datetime import datetime, timedelta\n",
                "from ecallisto_ng.data_download.downloader import (\n",
                "    get_ecallisto_data,\n",
                "    get_remote_files_url,\n",
                "    download_fits_process_to_pandas,\n",
                "    fetch_fits_to_pandas,\n",
                "    get_instrument_with_available_data,\n",
                ")"
            ]
        },
        {
            "cell_type": "code",
            "execution_count": 2,
            "metadata": {},
            "outputs": [
                {
                    "ename": "SyntaxError",
                    "evalue": "invalid syntax (2767133233.py, line 8)",
                    "output_type": "error",
                    "traceback": [
                        "\u001b[0;36m  Cell \u001b[0;32mIn[2], line 8\u001b[0;36m\u001b[0m\n\u001b[0;31m    dfs = get_ecallisto_data(datetime(2021, 5, 7, 3, 34), datetime(2021, 5, 7, 3, 46), instrument_name=)\u001b[0m\n\u001b[0m                                                                                                       ^\u001b[0m\n\u001b[0;31mSyntaxError\u001b[0m\u001b[0;31m:\u001b[0m invalid syntax\n"
                    ]
                }
            ],
            "source": [
                "import cProfile\n",
                "import pstats\n",
                "\n",
                "profiler = cProfile.Profile()\n",
                "profiler.enable()\n",
                "\n",
                "# Call your function\n",
                "dfs = get_ecallisto_data(\n",
                "    datetime(2021, 5, 7, 3, 34), datetime(2021, 5, 7, 3, 46), instrument_name=\"ASSA\"\n",
                ")\n",
                "\n",
                "profiler.disable()\n",
                "stats = pstats.Stats(profiler).sort_stats(\"cumulative\")"
            ]
        },
        {
            "cell_type": "code",
            "execution_count": 4,
            "metadata": {},
            "outputs": [
                {
                    "data": {
                        "text/plain": [
                            "{'NAXIS': 2,\n",
                            " 'CRPIX1': 0,\n",
                            " 'BUNIT': 'digits',\n",
                            " 'EXTEND': True,\n",
                            " 'OBS_LON': 139.639999389648,\n",
                            " 'DATAMIN': 0,\n",
                            " 'BITPIX': 8,\n",
                            " 'DATE': '2021-05-07',\n",
                            " 'NAXIS2': 200,\n",
                            " 'CRVAL2': 200.0,\n",
                            " 'CONTENT': '2021/05/07  Radio flux density, e-CALLISTO (Australia-ASSA)',\n",
                            " 'BZERO': 0.0,\n",
                            " 'OBS_LOC': 'E',\n",
                            " 'CTYPE2': 'Frequency [MHz]',\n",
                            " 'ANTENNAID': '01',\n",
                            " 'DATE-END': '2021-05-07',\n",
                            " 'ORIGIN': 'Sunnydale_SA',\n",
                            " 'CTYPE1': 'Time [UT]',\n",
                            " 'PWM_VAL': 120,\n",
                            " 'CDELT2': -1.0,\n",
                            " 'DATE-OBS': '2021-05-07',\n",
                            " 'CRPIX2': 0,\n",
                            " 'OBS_LAT': 34.6699981689453,\n",
                            " 'OBS_ALT': 50.0,\n",
                            " 'SIMPLE': True,\n",
                            " 'COMMENT': '  FITS Definition document #100 and other FITS information.',\n",
                            " 'BSCALE': 1.0,\n",
                            " 'OBS_LAC': 'S',\n",
                            " 'NAXIS1': 10800,\n",
                            " 'DATAMAX': 254,\n",
                            " 'FRQFILE': 'FRQ15087.CFG',\n",
                            " 'CDELT1': 0.25,\n",
                            " 'OBJECT': 'Sun',\n",
                            " 'TELESCOP': 'Radio Spectrometer',\n",
                            " 'INSTRUME': 'Australia-ASSA',\n",
                            " 'TIME-OBS': '03:30:00',\n",
                            " 'TIME-END': '04:15:00'}"
                        ]
                    },
                    "execution_count": 4,
                    "metadata": {},
                    "output_type": "execute_result"
                }
            ],
            "source": [
                "dfs[\"Australia-ASSA_01\"].attrs"
            ]
        },
        {
            "cell_type": "code",
            "execution_count": null,
            "metadata": {},
            "outputs": [],
            "source": [
                "get_instrument_with_available_data(\n",
                "    datetime(2021, 5, 7, 3, 34), datetime(2021, 5, 7, 3, 46)\n",
                ")"
            ]
        },
        {
            "cell_type": "code",
            "execution_count": 2,
            "metadata": {},
            "outputs": [],
            "source": [
                "test = get_remote_files_url(\n",
                "    datetime(2021, 5, 7, 3, 34), datetime(2021, 5, 7, 3, 46), instrument_name=\"ASSA\"\n",
                ")"
            ]
        },
        {
            "cell_type": "code",
            "execution_count": 3,
            "metadata": {},
            "outputs": [],
            "source": [
                "from astropy.io import fits"
            ]
        },
        {
            "cell_type": "code",
            "execution_count": 5,
            "metadata": {},
            "outputs": [
                {
                    "data": {
                        "text/plain": [
                            "SIMPLE  =                    T / file does conform to FITS standard             \n",
                            "BITPIX  =                    8 / number of bits per data pixel                  \n",
                            "NAXIS   =                    2 / number of data axes                            \n",
                            "NAXIS1  =                 3600 / length of data axis 1                          \n",
                            "NAXIS2  =                  200 / length of data axis 2                          \n",
                            "EXTEND  =                    T / FITS dataset may contain extensions            \n",
                            "COMMENT   FITS (Flexible Image Transport System) format defined in Astronomy and\n",
                            "COMMENT   Astrophysics Supplement Series v44/p363, v44/p371, v73/p359, v73/p365.\n",
                            "COMMENT   Contact the NASA Science Office of Standards and Technology for the   \n",
                            "COMMENT   FITS Definition document #100 and other FITS information.             \n",
                            "DATE    = '2021-05-07'         / Time of observation                            \n",
                            "CONTENT = '2021/05/07  Radio flux density, e-CALLISTO (Australia-ASSA)' / Title \n",
                            "ORIGIN  = 'Sunnydale_SA'       / Organization name                              \n",
                            "TELESCOP= 'Radio Spectrometer' / Type of instrument                             \n",
                            "INSTRUME= 'Australia-ASSA'     / Name of the spectrometer                       \n",
                            "OBJECT  = 'Sun     '           / object description                             \n",
                            "DATE-OBS= '2021/05/07'         / Date observation starts                        \n",
                            "TIME-OBS= '03:30:00.684'       / Time observation starts                        \n",
                            "DATE-END= '2021/05/07'         / date observation ends                          \n",
                            "TIME-END= '03:45:00'           / time observation ends                          \n",
                            "BZERO   =                   0. / scaling offset                                 \n",
                            "BSCALE  =                   1. / scaling factor                                 \n",
                            "BUNIT   = 'digits  '           / z-axis title                                   \n",
                            "DATAMIN =                    0 / minimum element in image                       \n",
                            "DATAMAX =                  254 / maximum element in image                       \n",
                            "CRVAL1  =               12600. / value on axis 1 at reference pixel [sec of day]\n",
                            "CRPIX1  =                    0 / reference pixel of axis 1                      \n",
                            "CTYPE1  = 'Time [UT]'          / title of axis 1                                \n",
                            "CDELT1  =                 0.25 / step between first and second element in x-axis\n",
                            "CRVAL2  =                 200. / value on axis 2 at the reference pixel         \n",
                            "CRPIX2  =                    0 / reference pixel of axis 2                      \n",
                            "CTYPE2  = 'Frequency [MHz]'    / title of axis 2                                \n",
                            "CDELT2  =                  -1. / step between first and second element in axis  \n",
                            "OBS_LAT =     34.6699981689453 / observatory latitude in degree                 \n",
                            "OBS_LAC = 'S       '           / observatory latitude code {N,S}                \n",
                            "OBS_LON =     139.639999389648 / observatory longitude in degree                \n",
                            "OBS_LOC = 'E       '           / observatory longitude code {E,W}               \n",
                            "OBS_ALT =                  50. / observatory altitude in meter asl              \n",
                            "FRQFILE = 'FRQ15087.CFG'       / name of frequency file                         \n",
                            "PWM_VAL =                  120 / PWM value to control tuner gain                "
                        ]
                    },
                    "execution_count": 5,
                    "metadata": {},
                    "output_type": "execute_result"
                }
            ],
            "source": [
                "fits.open(test[0])[0].attrs"
            ]
        }
    ],
    "metadata": {
        "kernelspec": {
            "display_name": "ecallisto_ng",
            "language": "python",
            "name": "python3"
        },
        "language_info": {
            "codemirror_mode": {
                "name": "ipython",
                "version": 3
            },
            "file_extension": ".py",
            "mimetype": "text/x-python",
            "name": "python",
            "nbconvert_exporter": "python",
            "pygments_lexer": "ipython3",
            "version": "3.9.17"
        },
        "orig_nbformat": 4
    },
    "nbformat": 4,
    "nbformat_minor": 2
}